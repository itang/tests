{
 "cells": [
  {
   "cell_type": "code",
   "execution_count": null,
   "metadata": {},
   "outputs": [],
   "source": [
    "let guess: u32 = \"32\".parse().expect(\"Not a number!\");\n",
    "println!(\"{guess}\");\n",
    "\n",
    "let i: u8 = 100;\n",
    "dbg!(i);\n",
    "let i: i8 = 100;\n",
    "dbg!(i);\n",
    "let i: u32 = 100;\n",
    "dbg!(i);\n",
    "let i :usize = 200;\n",
    "dbg!(i);\n",
    "let b: isize = 300;\n",
    "dbg!(i);\n",
    "\n",
    "let c = 0b1111_0000;\n",
    "dbg!(c);\n",
    "let c = 0o10;\n",
    "dbg!(c);\n",
    "let b = b'A';\n",
    "dbg!(b); // Byte (u8 only)"
   ]
  },
  {
   "cell_type": "code",
   "execution_count": 31,
   "metadata": {},
   "outputs": [
    {
     "name": "stderr",
     "output_type": "stream",
     "text": [
      "[src/lib.rs:116] tup = (\n",
      "    500,\n",
      "    6.4,\n"
     ]
    },
    {
     "name": "stdout",
     "output_type": "stream",
     "text": [
      "500, 6.4, 1\n"
     ]
    },
    {
     "name": "stderr",
     "output_type": "stream",
     "text": [
      "    1,\n",
      ")\n"
     ]
    },
    {
     "name": "stdout",
     "output_type": "stream",
     "text": [
      "[1, 2, 3, 4, 5]\n",
      "January\n"
     ]
    },
    {
     "name": "stderr",
     "output_type": "stream",
     "text": [
      "thread '<unnamed>' panicked at 'not yet implemented', src/lib.rs:132:1\n",
      "stack backtrace:\n",
      "note: Some details are omitted, run with `RUST_BACKTRACE=full` for a verbose backtrace.\n"
     ]
    },
    {
     "ename": "Error",
     "evalue": "Child process terminated with status: exit code: 0xc0000005",
     "output_type": "error",
     "traceback": [
      "Child process terminated with status: exit code: 0xc0000005"
     ]
    }
   ],
   "source": [
    "let tup: (i32, f64, u8) = (500, 6.4, 1);\n",
    "dbg!(tup);\n",
    "let (a, b, c) = tup;\n",
    "println!(\"{a}, {b}, {c}\");\n",
    "\n",
    "\n",
    "let a: [u32; 5] = [1,2,3,4,5];\n",
    "println!(\"{a:?}\");\n",
    "\n",
    "let months = [\"January\", \"February\", \"March\", \"April\", \"May\", \"June\", \"July\",\n",
    "              \"August\", \"September\", \"October\", \"November\", \"December\"];\n",
    "println!(\"{}\", months[0]);\n",
    "let a = [5; 3];\n",
    "assert!(a.len() == 3);\n",
    "assert_eq!(a[0] , 5);\n",
    "assert!(a[a.len() - 1] == 5);\n"
   ]
  }
 ],
 "metadata": {
  "kernelspec": {
   "display_name": "Rust",
   "language": "rust",
   "name": "rust"
  },
  "language_info": {
   "codemirror_mode": "rust",
   "file_extension": ".rs",
   "mimetype": "text/rust",
   "name": "Rust",
   "pygment_lexer": "rust",
   "version": ""
  },
  "orig_nbformat": 4
 },
 "nbformat": 4,
 "nbformat_minor": 2
}
